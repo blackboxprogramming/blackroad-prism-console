{
 "cells": [
  {
   "cell_type": "markdown",
   "metadata": {},
   "source": [
    "# Auto Plan Generator\n",
    "Generates rolling 5-year business plans, cashflow and valuation models."
   ]
  },
  {
   "cell_type": "code",
   "execution_count": null,
   "metadata": {},
   "outputs": [],
   "source": [
    "import pandas as pd\n",
    "import numpy as np\n",
    "\n",
    "def rolling_plan(revenue, growth=0.05, years=5):\n",
    "    data=[]\n",
    "    for y in range(years):\n",
    "        data.append({'year': y+1, 'revenue': revenue})\n",
    "        revenue *= (1 + growth)\n",
    "    return pd.DataFrame(data)\n",
    "\n",
    "plan = rolling_plan(1_000_000)\n",
    "plan"
   ]
  }
 ],
 "metadata": {
  "kernelspec": {
   "display_name": "Python 3",
   "language": "python",
   "name": "python3"
  },
  "language_info": {
   "name": "python",
   "version": "3.11"
  }
 },
 "nbformat": 4,
 "nbformat_minor": 5
}
