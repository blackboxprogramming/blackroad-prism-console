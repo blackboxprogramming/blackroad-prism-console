{
 "cells": [
  {
   "cell_type": "markdown",
   "metadata": {},
   "source": [
    "# Alice & Lucidia Demo\n",
    "Walkthrough of training, memory interactions, and agent dialogue."
   ]
  },
  {
   "cell_type": "code",
   "execution_count": null,
   "metadata": {},
   "outputs": [],
   "source": [
    "from alice_lucidia.agents.lucidia import LucidiaAgent, LucidiaConfig\n",
    "from alice_lucidia.agents.alice import AliceAgent\n",
    "from alice_lucidia.agents.tools import build_default_tools\n",
    "\n",
    "lucidia = LucidiaAgent(LucidiaConfig())\n",
    "tools = build_default_tools(lucidia.store)\n",
    "alice = AliceAgent(tools)"
   ]
  },
  {
   "cell_type": "code",
   "execution_count": null,
   "metadata": {},
   "outputs": [],
   "source": [
    "lucidia.write_fact('fact1', 'Black swans are rare events.', {'confidence': '0.9'})\n",
    "lucidia.recall('Tell me about black swans')"
   ]
  },
  {
   "cell_type": "code",
   "execution_count": null,
   "metadata": {},
   "outputs": [],
   "source": [
    "alice.execute('Provide sources on renewables and run a what if analysis')"
   ]
  }
 ],
 "metadata": {
  "kernelspec": {
   "display_name": "Python 3",
   "language": "python",
   "name": "python3"
  },
  "language_info": {
   "name": "python",
   "version": "3.10"
  }
 },
 "nbformat": 4,
 "nbformat_minor": 5
}
