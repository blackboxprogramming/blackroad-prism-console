{
 "cells": [
  {
   "cell_type": "markdown",
   "metadata": {},
   "source": [
    "# End-to-end metrics sanity check\n",
    "Run the pipeline steps (`make dummy`, `make mpm`, `make pysph`) before executing the cell below."
   ]
  },
  {
   "cell_type": "code",
   "execution_count": null,
   "metadata": {},
   "outputs": [],
   "source": [
    "from sim_pipeline.report import collect_metrics, evaluate_thresholds\n",
    "metrics = collect_metrics()\n",
    "checks = evaluate_thresholds(metrics)\n",
    "metrics, checks, all(checks.values())"
   ]
  }
 ],
 "metadata": {
  "kernelspec": {
   "display_name": "Python 3",
   "language": "python",
   "name": "python3"
  },
  "language_info": {
   "name": "python",
   "version": "3.11"
  }
 },
 "nbformat": 4,
 "nbformat_minor": 5
}
