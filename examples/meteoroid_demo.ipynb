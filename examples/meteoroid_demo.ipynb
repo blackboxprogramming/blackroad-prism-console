{
 "cells": [
  {
   "cell_type": "markdown",
   "metadata": {},
   "source": [
    "# Meteoroid environment demo\n",
    "This notebook demonstrates the offline `astro.meteoroid_env` module."
   ]
  },
  {
   "cell_type": "code",
   "execution_count": null,
   "metadata": {},
   "outputs": [],
   "source": [
    "from lucidia.astro.meteoroid_env import OrbitalElements, TargetPoint, number_density, encounter_velocities\n",
    "from lucidia.astro.meteoroid_env.units import AU, ms_to_kms\n",
    "\n",
    "elements = OrbitalElements(a=AU, e=0.1, i=0.3)\n",
    "point = TargetPoint(AU, 0.0, 0.0)\n",
    "\n",
    "n = number_density(elements, point)\n",
    "vels = encounter_velocities(elements, point)\n",
    "vels_kms = ms_to_kms(vels)\n",
    "n, vels_kms"
   ]
  }
 ],
 "metadata": {
  "kernelspec": {
   "display_name": "Python 3",
   "language": "python",
   "name": "python3"
  },
  "language_info": {
   "name": "python",
   "version": "3.11"
  }
 },
 "nbformat": 4,
 "nbformat_minor": 5
}
