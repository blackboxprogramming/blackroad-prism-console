{
 "cells": [
  {
   "cell_type": "markdown",
   "metadata": {},
   "source": [
    "# Side-by-side Metrics\n",
    "Run `make orchestrate`, `make check`, and `make report` before opening this notebook.\n",
    "The cells below load the JSON metrics computed by the CLI and display them\n",
    "in a tabular format."
   ]
  },
  {
   "cell_type": "code",
   "execution_count": null,
   "metadata": {},
   "outputs": [],
   "source": [
    "from universal_sim.metrics import read\n",
    "from universal_sim.paths import PATHS\n",
    "import json\n",
    "\n",
    "metrics = read(PATHS.metrics_path)\n",
    "metrics"
   ]
  },
  {
   "cell_type": "code",
   "execution_count": null,
   "metadata": {},
   "outputs": [],
   "source": [
    "try:\n",
    "    import pandas as pd\n",
    "except Exception:\n",
    "    pd = None\n",
    "\n",
    "if pd is not None:\n",
    "    rows = []\n",
    "    for category, fields in metrics.items():\n",
    "        for name, stats in fields.items():\n",
    "            rows.append({\"category\": category, \"field\": name, **stats})\n",
    "    display(pd.DataFrame(rows))\n",
    "else:\n",
    "    import pprint\n",
    "    pprint.pp(metrics)\n"
   ]
  }
 ],
 "metadata": {
  "kernelspec": {
   "display_name": "Python 3",
   "language": "python",
   "name": "python3"
  },
  "language_info": {
   "name": "python",
   "version": "3.11"
  }
 },
 "nbformat": 4,
 "nbformat_minor": 5
}
